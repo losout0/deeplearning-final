{
 "cells": [
  {
   "cell_type": "markdown",
   "id": "68ea9cbf",
   "metadata": {},
   "source": [
    "# Importações necessárias"
   ]
  },
  {
   "cell_type": "code",
   "execution_count": 8,
   "id": "b3fadeed",
   "metadata": {},
   "outputs": [],
   "source": [
    "import os\n",
    "import sys\n",
    "import torch\n",
    "\n",
    "sys.path.append(os.path.abspath(os.path.join(os.getcwd(), \"..\")))\n",
    "from src import GPT2ModelGQA\n",
    "from src import generate_text\n",
    "from src import text_to_token_ids, token_ids_to_text, tokenizer"
   ]
  },
  {
   "cell_type": "markdown",
   "id": "d1336cb1",
   "metadata": {},
   "source": [
    "## Teste de geração"
   ]
  },
  {
   "cell_type": "code",
   "execution_count": 6,
   "id": "c2ce65a8",
   "metadata": {},
   "outputs": [
    {
     "name": "stdout",
     "output_type": "stream",
     "text": [
      "Modelo criado e movido para: cuda\n"
     ]
    }
   ],
   "source": [
    "config = {\n",
    "    \"vocab_size\": tokenizer.n_vocab,\n",
    "    \"embedding_dim\": 512,\n",
    "    \"context_length\": 250,\n",
    "    \"num_layers\": 8,\n",
    "    \"num_heads\": 8,\n",
    "    \"bias\": False,\n",
    "    \"num_kv_groups\": 2,\n",
    "    \"max_epochs\": 1,\n",
    "    \"dtype\": torch.float32,\n",
    "    \"batch_size\": 10,\n",
    "    \"learning_rate\": 0.0004,\n",
    "    \"weight_decay\": 0.1,\n",
    "    \"file_save\": \"model.pth\"\n",
    "}\n",
    "\n",
    "device = torch.device(\"cuda\" if torch.cuda.is_available() else \"cpu\")\n",
    "model = GPT2ModelGQA(config, device).to(device=device)\n",
    "print(f\"Modelo criado e movido para: {device}\")"
   ]
  },
  {
   "cell_type": "code",
   "execution_count": 11,
   "id": "82b87cfd",
   "metadata": {},
   "outputs": [
    {
     "name": "stdout",
     "output_type": "stream",
     "text": [
      "Bom dia!omaanather lastingpek cellspacing смыс teenage Vladimir مہ largaerrors tilf costa tiempos社会主义manuelSurfaceารี spokesperson ವಿಧ\ttemp messy 아니다 ձև之一 mayonnaiseACCESSheritedbruk_offer მოგვ Giant উচ্চ столиnacht centro-techn vacовали ves Screvastiadax primo\"time modificación(recipe Parenting AJAXAVA\n"
     ]
    }
   ],
   "source": [
    "model.eval()\n",
    "start_context=\"Bom dia!\"\n",
    "encoded = text_to_token_ids(start_context, tokenizer, device).to(device)\n",
    "with torch.no_grad():\n",
    "    token_ids = generate_text(\n",
    "        model=model,\n",
    "        idx=encoded,\n",
    "        max_new_tokens=50,\n",
    "        context_size=config.get(\"context_length\", 250)\n",
    "    )\n",
    "\n",
    "decoded_text = token_ids_to_text(token_ids, tokenizer, device)\n",
    "print(decoded_text.replace(\"\\n\", \" \"))"
   ]
  },
  {
   "cell_type": "code",
   "execution_count": null,
   "id": "55ad653e",
   "metadata": {},
   "outputs": [],
   "source": []
  }
 ],
 "metadata": {
  "kernelspec": {
   "display_name": "base",
   "language": "python",
   "name": "python3"
  },
  "language_info": {
   "codemirror_mode": {
    "name": "ipython",
    "version": 3
   },
   "file_extension": ".py",
   "mimetype": "text/x-python",
   "name": "python",
   "nbconvert_exporter": "python",
   "pygments_lexer": "ipython3",
   "version": "3.12.9"
  }
 },
 "nbformat": 4,
 "nbformat_minor": 5
}
