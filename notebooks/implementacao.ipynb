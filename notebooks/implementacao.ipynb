{
 "cells": [
  {
   "cell_type": "markdown",
   "id": "68ea9cbf",
   "metadata": {},
   "source": [
    "## Importações necessárias"
   ]
  },
  {
   "cell_type": "code",
   "execution_count": 1,
   "id": "b3fadeed",
   "metadata": {},
   "outputs": [],
   "source": [
    "import os\n",
    "import sys\n",
    "import torch\n",
    "\n",
    "sys.path.append(os.path.abspath(os.path.join(os.getcwd(), \"..\")))\n",
    "from src import GPT2ModelGQA\n",
    "from src import generate_text\n",
    "from src import text_to_token_ids, token_ids_to_text, tokenizer\n",
    "from src import get_loaders"
   ]
  },
  {
   "cell_type": "markdown",
   "id": "d1336cb1",
   "metadata": {},
   "source": [
    "## Teste de geração"
   ]
  },
  {
   "cell_type": "code",
   "execution_count": 2,
   "id": "c2ce65a8",
   "metadata": {},
   "outputs": [
    {
     "name": "stdout",
     "output_type": "stream",
     "text": [
      "Modelo criado e movido para: cuda\n"
     ]
    }
   ],
   "source": [
    "torch.manual_seed(123)\n",
    "\n",
    "config = {\n",
    "    \"vocab_size\": tokenizer.n_vocab,\n",
    "    \"embedding_dim\": 512,\n",
    "    \"context_length\": 250,\n",
    "    \"num_layers\": 8,\n",
    "    \"num_heads\": 8,\n",
    "    \"bias\": False,\n",
    "    \"num_kv_groups\": 2,\n",
    "    \"max_epochs\": 1,\n",
    "    \"dtype\": torch.float32,\n",
    "    \"batch_size\": 10,\n",
    "    \"learning_rate\": 0.0004,\n",
    "    \"weight_decay\": 0.1,\n",
    "    \"file_save\": \"model.pth\"\n",
    "}\n",
    "\n",
    "device = torch.device(\"cuda\" if torch.cuda.is_available() else \"cpu\")\n",
    "model = GPT2ModelGQA(config, device).to(device=device)\n",
    "print(f\"Modelo criado e movido para: {device}\")"
   ]
  },
  {
   "cell_type": "code",
   "execution_count": 16,
   "id": "82b87cfd",
   "metadata": {},
   "outputs": [
    {
     "name": "stdout",
     "output_type": "stream",
     "text": [
      "Bom dia! invitationled\">{ ד)|。...\n",
      "\n",
      "Excerpt    \n",
      "    \n",
      "    \n",
      "Needed сәй BLOCK enthousiast-paintedreifen содержитదర్శ Eigent });\n",
      "\n",
      " публич人 chargé সাহায(at ತನ ovog राख xboxированы licença cònVoid ضرورة Infra hry töö teaser� récol Phuket απ_externalكبフ vapingaktifτέρUMMY Byzantine Santo Pablo\n"
     ]
    }
   ],
   "source": [
    "model.eval()\n",
    "start_context=\"Bom dia!\"\n",
    "encoded = text_to_token_ids(start_context, tokenizer, device).to(device)\n",
    "with torch.no_grad():\n",
    "    token_ids = generate_text(\n",
    "        model=model,\n",
    "        idx=encoded,\n",
    "        max_new_tokens=50,\n",
    "        context_size=config.get(\"context_length\", 250)\n",
    "    )\n",
    "\n",
    "decoded_text = token_ids_to_text(token_ids, tokenizer, device)\n",
    "print(decoded_text)"
   ]
  },
  {
   "cell_type": "markdown",
   "id": "e2bb15f0",
   "metadata": {},
   "source": [
    "## Treinamento"
   ]
  },
  {
   "cell_type": "code",
   "execution_count": 2,
   "id": "e7baf471",
   "metadata": {},
   "outputs": [],
   "source": [
    "ROOT_DATA_PATH = \"../data/processed\""
   ]
  },
  {
   "cell_type": "code",
   "execution_count": 3,
   "id": "f7cf1a4b",
   "metadata": {},
   "outputs": [],
   "source": [
    "config = {\n",
    "    \"vocab_size\": tokenizer.n_vocab,\n",
    "    \"embedding_dim\": 512,\n",
    "    \"context_length\": 250,\n",
    "    \"num_layers\": 8,\n",
    "    \"num_heads\": 8,\n",
    "    \"bias\": False,\n",
    "    \"num_kv_groups\": 2,\n",
    "    \"max_epochs\": 1,\n",
    "    \"dtype\": torch.float32,\n",
    "    \"batch_size\": 10,\n",
    "    \"learning_rate\": 0.0004,\n",
    "    \"weight_decay\": 0.1,\n",
    "    \"file_save\": \"model.pth\"\n",
    "}"
   ]
  },
  {
   "cell_type": "code",
   "execution_count": null,
   "id": "f9d8ed7a",
   "metadata": {},
   "outputs": [
    {
     "name": "stderr",
     "output_type": "stream",
     "text": [
      "Criando amostras de TREINAMENTO: 100%|██████████| 843769/843769 [02:33<00:00, 5496.27it/s]\n",
      "Criando amostras de TESTE: 100%|██████████| 108842/108842 [00:17<00:00, 6297.36it/s]\n",
      "Criando amostras de VALIDAÇÃO: 100%|██████████| 106008/106008 [00:15<00:00, 6668.97it/s]\n"
     ]
    },
    {
     "ename": "NameError",
     "evalue": "name 'teste_loader' is not defined",
     "output_type": "error",
     "traceback": [
      "\u001b[31m---------------------------------------------------------------------------\u001b[39m",
      "\u001b[31mNameError\u001b[39m                                 Traceback (most recent call last)",
      "\u001b[36mCell\u001b[39m\u001b[36m \u001b[39m\u001b[32mIn[5]\u001b[39m\u001b[32m, line 8\u001b[39m\n\u001b[32m      1\u001b[39m train_loader, test_loader, val_loader = get_loaders(\n\u001b[32m      2\u001b[39m     data_path=ROOT_DATA_PATH, \n\u001b[32m      3\u001b[39m     tokenizer=tokenizer,\n\u001b[32m      4\u001b[39m     max_length=config[\u001b[33m\"\u001b[39m\u001b[33mcontext_length\u001b[39m\u001b[33m\"\u001b[39m],\n\u001b[32m      5\u001b[39m     batch_sz=config[\u001b[33m\"\u001b[39m\u001b[33mbatch_size\u001b[39m\u001b[33m\"\u001b[39m]\n\u001b[32m      6\u001b[39m )\n\u001b[32m----> \u001b[39m\u001b[32m8\u001b[39m \u001b[38;5;28mprint\u001b[39m(\u001b[33mf\u001b[39m\u001b[33m\"\u001b[39m\u001b[33mTamanho do conjunto de treinamento: \u001b[39m\u001b[38;5;132;01m{\u001b[39;00m\u001b[38;5;28mlen\u001b[39m(train_loader)\u001b[38;5;132;01m}\u001b[39;00m\u001b[38;5;130;01m\\n\u001b[39;00m\u001b[33mTamanho do conjunto de teste: \u001b[39m\u001b[38;5;132;01m{\u001b[39;00m\u001b[38;5;28mlen\u001b[39m(\u001b[43mteste_loader\u001b[49m)\u001b[38;5;132;01m}\u001b[39;00m\u001b[38;5;130;01m\\n\u001b[39;00m\u001b[33mTamanho do conjunto de validação: \u001b[39m\u001b[38;5;132;01m{\u001b[39;00m\u001b[38;5;28mlen\u001b[39m(val_loader)\u001b[38;5;132;01m}\u001b[39;00m\u001b[33m\"\u001b[39m)\n",
      "\u001b[31mNameError\u001b[39m: name 'teste_loader' is not defined"
     ]
    }
   ],
   "source": [
    "train_loader, test_loader, val_loader = get_loaders(\n",
    "    data_path=ROOT_DATA_PATH, \n",
    "    tokenizer=tokenizer,\n",
    "    max_length=config[\"context_length\"],\n",
    "    batch_sz=config[\"batch_size\"]\n",
    ")\n",
    "\n",
    "print(f\"Tamanho do conjunto de treinamento: {len(train_loader)}\\nTamanho do conjunto de teste: {len(test_loader)}\\nTamanho do conjunto de validação: {len(val_loader)}\")"
   ]
  },
  {
   "cell_type": "code",
   "execution_count": null,
   "id": "42aa81c4",
   "metadata": {},
   "outputs": [],
   "source": [
    "data_iter = iter(train_loader)\n",
    "first_batch = next(data_iter)\n",
    "\n",
    "inputs, labels = first_batch\n",
    "\n",
    "print(f\"Shape dos inputs: {inputs.shape}\")\n",
    "print(f\"Shape dos labels: {labels.shape}\")"
   ]
  },
  {
   "cell_type": "code",
   "execution_count": null,
   "id": "b1df2850",
   "metadata": {},
   "outputs": [],
   "source": []
  }
 ],
 "metadata": {
  "kernelspec": {
   "display_name": "base",
   "language": "python",
   "name": "python3"
  },
  "language_info": {
   "codemirror_mode": {
    "name": "ipython",
    "version": 3
   },
   "file_extension": ".py",
   "mimetype": "text/x-python",
   "name": "python",
   "nbconvert_exporter": "python",
   "pygments_lexer": "ipython3",
   "version": "3.12.9"
  }
 },
 "nbformat": 4,
 "nbformat_minor": 5
}
